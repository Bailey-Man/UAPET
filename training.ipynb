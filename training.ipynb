{
 "cells": [
  {
   "cell_type": "code",
   "execution_count": 1,
   "metadata": {},
   "outputs": [],
   "source": [
    "import bokeh\n",
    "import numpy as np\n",
    "import pandas as pd\n",
    "import cv2\n",
    "import param\n",
    "import datetime as dt"
   ]
  },
  {
   "cell_type": "markdown",
   "metadata": {},
   "source": [
    "# UAPET \n",
    "## Model Training Notebook\n",
    "\n"
   ]
  },
  {
   "cell_type": "code",
   "execution_count": 1,
   "metadata": {},
   "outputs": [],
   "source": [
    "## select raw video using dropdown menus\n",
    "class VideoSelector(param.Parameterized):\n",
    "    \"\"\"\n",
    "\n",
    "    \"\"\"\n",
    "    # select pool\n",
    "    pool_list = ['pool1', 'pool2', 'pool3', 'pool4']\n",
    "    pool = param.ObjectSelector(default='pool1', objects=pool_list)\n",
    "    # select camera\n",
    "    camera_list = ['camera1', 'camera2', 'camera3', 'camera4']\n",
    "    camera = param.ObjectSelector(default='camera1', objects=camera_list)\n",
    "    # select video\n",
    "    video_list = ['video1', 'video2', 'video3', 'video4']\n",
    "    video = param.ObjectSelector(default='video1', objects=video_list)\n",
    "\n",
    "    \n",
    "\n",
    "\n",
    "# view video using opencv imshow() and ipython.display.display()\n",
    "# https://learnopencv.com/read-write-and-display-a-video-using-opencv-cpp-python/\n"
   ]
  },
  {
   "cell_type": "code",
   "execution_count": 2,
   "metadata": {},
   "outputs": [],
   "source": [
    "## labeling tool\n",
    "\n"
   ]
  },
  {
   "cell_type": "code",
   "execution_count": 3,
   "metadata": {},
   "outputs": [],
   "source": [
    "## train models: \n",
    "# OpenCV\n",
    "\n",
    "# Tensorflow\n",
    "\n",
    "# Scikit-learn\n",
    "\n",
    "# My model"
   ]
  },
  {
   "cell_type": "code",
   "execution_count": null,
   "metadata": {},
   "outputs": [],
   "source": [
    "## test model accuracy "
   ]
  }
 ],
 "metadata": {
  "interpreter": {
   "hash": "231ae2835a051cd6e0ae3ca1e441fabe4a59c28b7c0c9cc0d40aae2eb5ac288e"
  },
  "kernelspec": {
   "display_name": "Python 3.9.5 64-bit",
   "language": "python",
   "name": "python3"
  },
  "language_info": {
   "codemirror_mode": {
    "name": "ipython",
    "version": 3
   },
   "file_extension": ".py",
   "mimetype": "text/x-python",
   "name": "python",
   "nbconvert_exporter": "python",
   "pygments_lexer": "ipython3",
   "version": "3.9.5"
  },
  "orig_nbformat": 4
 },
 "nbformat": 4,
 "nbformat_minor": 2
}

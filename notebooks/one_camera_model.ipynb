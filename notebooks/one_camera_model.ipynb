{
 "cells": [
  {
   "cell_type": "markdown",
   "source": [
    "First we import the necessary libraries: \r\n",
    "\r\n",
    "\r\n",
    "Install them if necessary\r\n",
    "\r\n",
    "\r\n",
    "Include all libraries in requirements.txt\r\n",
    "\r\n",
    "\r\n",
    "Make a ReadME.md file w/ instructions on cloning and running the notebook"
   ],
   "metadata": {}
  },
  {
   "cell_type": "code",
   "execution_count": 2,
   "source": [
    "# imports\r\n",
    "import numpy as np\r\n",
    "import pandas as pd\r\n",
    "import matplotlib.pyplot as plt\r\n",
    "import openCV2 as cv2"
   ],
   "outputs": [],
   "metadata": {}
  },
  {
   "cell_type": "markdown",
   "source": [
    "Load the data- either upload a file or select a file from the /data folder"
   ],
   "metadata": {}
  },
  {
   "cell_type": "code",
   "execution_count": 3,
   "source": [
    "# Load Data\r\n",
    "\r\n",
    "# Use helper file and function to load data in any video format supported by OpenCV"
   ],
   "outputs": [],
   "metadata": {}
  },
  {
   "cell_type": "code",
   "execution_count": null,
   "source": [],
   "outputs": [],
   "metadata": {}
  }
 ],
 "metadata": {
  "orig_nbformat": 4,
  "language_info": {
   "name": "python",
   "version": "3.9.5",
   "mimetype": "text/x-python",
   "codemirror_mode": {
    "name": "ipython",
    "version": 3
   },
   "pygments_lexer": "ipython3",
   "nbconvert_exporter": "python",
   "file_extension": ".py"
  },
  "kernelspec": {
   "name": "python3",
   "display_name": "Python 3.9.5 64-bit"
  },
  "interpreter": {
   "hash": "231ae2835a051cd6e0ae3ca1e441fabe4a59c28b7c0c9cc0d40aae2eb5ac288e"
  }
 },
 "nbformat": 4,
 "nbformat_minor": 2
}
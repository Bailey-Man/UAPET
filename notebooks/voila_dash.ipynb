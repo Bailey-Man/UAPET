{
 "cells": [
  {
   "cell_type": "markdown",
   "source": [
    "# UAPET Dashboard\r\n",
    "\r\n",
    "### TODO:\r\n",
    "1. Voila Page up and running: done 8/16\r\n",
    "2. Interactive functions\r\n",
    "3. Develop labeling ability: use cookies or voila store\r\n",
    "4. Add upload button"
   ],
   "metadata": {}
  },
  {
   "cell_type": "code",
   "execution_count": 105,
   "source": [
    "import numpy as np\r\n",
    "import ipywidgets as wg\r\n",
    "from IPython.display import clear_output, display\r\n",
    "\r\n",
    "import matplotlib.pyplot as plt\r\n",
    "from IPython.display import set_matplotlib_formats\r\n",
    "%matplotlib inline\r\n",
    "set_matplotlib_formats('svg')\r\n",
    "\r\n",
    "np.random.seed(42)"
   ],
   "outputs": [
    {
     "output_type": "stream",
     "name": "stderr",
     "text": [
      "<ipython-input-105-c138edcee43a>:8: DeprecationWarning: `set_matplotlib_formats` is deprecated since IPython 7.23, directly use `matplotlib_inline.backend_inline.set_matplotlib_formats()`\n",
      "  set_matplotlib_formats('svg')\n"
     ]
    }
   ],
   "metadata": {}
  },
  {
   "cell_type": "code",
   "execution_count": 114,
   "source": [
    "mu_label = wg.Label(value=\"Mean:\")\r\n",
    "mu_var = wg.BoundedIntText(value=100, min=10, max=300)\r\n",
    "sigma_label = wg.Label(value=\"Sigma:\")\r\n",
    "sigma_var = wg.BoundedIntText(value=15, min=10, max=50)\r\n",
    "bins_label = wg.Label(value=\"Bins:\")\r\n",
    "bins_var = wg.IntSlider(value=50, min=1, max=100, step=1)\r\n",
    "\r\n",
    "inputs = wg.VBox([mu_label, mu_var, sigma_label, sigma_var, bins_label, bins_var])\r\n",
    "\r\n",
    "out = wg.Output()\r\n",
    "def on_value_change(change):\r\n",
    "    mu = mu_var.value\r\n",
    "    sigma = sigma_var.value\r\n",
    "    num_bins = bins_var.value\r\n",
    "\r\n",
    "    with out:\r\n",
    "        fig, ax = plt.subplots()\r\n",
    "\r\n",
    "        # the histogram of the data\r\n",
    "        x = mu + sigma * np.random.randn(437)\r\n",
    "        n, bins, patches = ax.hist(x, num_bins, density=1)\r\n",
    "\r\n",
    "        # add a 'best fit' line\r\n",
    "        y = ((1 / (np.sqrt(2 * np.pi) * sigma)) * np.exp(-0.5 * (1 / sigma * (bins - mu))**2))\r\n",
    "        ax.plot(bins, y, '--')\r\n",
    "        \r\n",
    "        ax.set_xlabel('X')\r\n",
    "        ax.set_ylabel('Probability density')\r\n",
    "        ax.set_title(f'Histogram with: mu={mu}, sigma={sigma}, bins={num_bins}')\r\n",
    "\r\n",
    "        clear_output(wait=True)\r\n",
    "        plt.show(fig)\r\n",
    "\r\n",
    "mu_var.observe(on_value_change, names=\"value\")\r\n",
    "sigma_var.observe(on_value_change, names=\"value\")\r\n",
    "bins_var.observe(on_value_change, names=\"value\")\r\n",
    "on_value_change(None)\r\n",
    "wg.HBox([inputs, out])"
   ],
   "outputs": [
    {
     "output_type": "display_data",
     "data": {
      "text/plain": [
       "HBox(children=(VBox(children=(Label(value='Mean:'), BoundedIntText(value=100, max=300, min=10), Label(value='S…"
      ],
      "application/vnd.jupyter.widget-view+json": {
       "version_major": 2,
       "version_minor": 0,
       "model_id": "59a1c0550f6c4cde98566e2a9d20c80f"
      }
     },
     "metadata": {}
    }
   ],
   "metadata": {}
  },
  {
   "cell_type": "code",
   "execution_count": 116,
   "source": [
    "file_in_text = wg.Label(value=\"File input: \")\r\n",
    "file_in = wg.FileUpload(accept=\".csv\", multiple=False)\r\n",
    "\r\n",
    "input_uapet = wg.VBox([file_in_text, file_in])\r\n",
    "input_uapet"
   ],
   "outputs": [
    {
     "output_type": "display_data",
     "data": {
      "text/plain": [
       "VBox(children=(Label(value='File input: '), FileUpload(value={}, accept='.csv', description='Upload')))"
      ],
      "application/vnd.jupyter.widget-view+json": {
       "version_major": 2,
       "version_minor": 0,
       "model_id": "ce190dbef6ba48b389010cf96e40a8cb"
      }
     },
     "metadata": {}
    }
   ],
   "metadata": {}
  },
  {
   "cell_type": "markdown",
   "source": [
    "# Footer"
   ],
   "metadata": {}
  }
 ],
 "metadata": {
  "orig_nbformat": 4,
  "language_info": {
   "name": "python",
   "version": "3.9.5",
   "mimetype": "text/x-python",
   "codemirror_mode": {
    "name": "ipython",
    "version": 3
   },
   "pygments_lexer": "ipython3",
   "nbconvert_exporter": "python",
   "file_extension": ".py"
  },
  "kernelspec": {
   "name": "python3",
   "display_name": "Python 3.9.5 64-bit"
  },
  "interpreter": {
   "hash": "231ae2835a051cd6e0ae3ca1e441fabe4a59c28b7c0c9cc0d40aae2eb5ac288e"
  }
 },
 "nbformat": 4,
 "nbformat_minor": 2
}
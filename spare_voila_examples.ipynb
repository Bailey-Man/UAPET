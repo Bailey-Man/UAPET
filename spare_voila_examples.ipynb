{
 "cells": [
  {
   "cell_type": "code",
   "execution_count": 1,
   "source": [
    "# imports\r\n",
    "# %matplotlib inline\r\n",
    "# from ipywidgets import HBox, VBox, IntSlider, interactive_output, FileUpload, Button, Layout, Box, Label, AppLayout, interactive\r\n",
    "# import ipywidgets as wg\r\n",
    "# from IPython.display import display\r\n",
    "# import matplotlib.pyplot as plt\r\n",
    "# import numpy as np\r\n",
    "# import ipympl\r\n",
    "\r\n",
    "# header: Markdown\r\n",
    "# left: SideBar\r\n",
    "# center: Output\r\n",
    "# right: None\r\n",
    "# footer: Markdown"
   ],
   "outputs": [],
   "metadata": {}
  },
  {
   "cell_type": "code",
   "execution_count": 2,
   "source": [
    "\r\n",
    "# # Items flex proportionally to the weight and the left over space around the text\r\n",
    "# items_auto = [\r\n",
    "#     Button(description='weight=1; auto', layout=Layout(flex='1 1 auto', width='auto'), button_style='danger'),\r\n",
    "#     Button(description='weight=3; auto', layout=Layout(flex='3 1 auto', width='auto'), button_style='danger'),\r\n",
    "#     Button(description='weight=1; auto', layout=Layout(flex='1 1 auto', width='auto'), button_style='danger'),\r\n",
    "#  ]\r\n",
    "\r\n",
    "# # Items flex proportionally to the weight\r\n",
    "# items_0 = [\r\n",
    "#     Button(description='weight=1; 0%', layout=Layout(flex='1 1 0%', width='auto'), button_style='danger'),\r\n",
    "#     Button(description='weight=3; 0%', layout=Layout(flex='3 1 0%', width='auto'), button_style='danger'),\r\n",
    "#     Button(description='weight=1; 0%', layout=Layout(flex='1 1 0%', width='auto'), button_style='danger'),\r\n",
    "#  ]\r\n",
    "# box_layout = Layout(display='flex',\r\n",
    "#                     flex_flow='row',\r\n",
    "#                     align_items='stretch',\r\n",
    "#                     width='70%')\r\n",
    "# box_auto = Box(children=items_auto, layout=box_layout)\r\n",
    "# box_0 = Box(children=items_0, layout=box_layout)\r\n",
    "\r\n",
    "# display(VBox([box_auto, box_0]))"
   ],
   "outputs": [],
   "metadata": {}
  },
  {
   "cell_type": "code",
   "execution_count": 3,
   "source": [
    "# items_layout = Layout( width='auto')     # override the default width of the button to 'auto' to let the button grow\r\n",
    "\r\n",
    "# box_layout = Layout(display='flex',\r\n",
    "#                     flex_flow='column',\r\n",
    "#                     align_items='stretch',\r\n",
    "#                     border='solid',\r\n",
    "#                     width='50%')\r\n",
    "\r\n",
    "# words = ['correct', 'horse', 'battery', 'staple']\r\n",
    "# items = [Button(description=word, layout=items_layout, button_style='danger') for word in words]\r\n",
    "# box = Box(children=items, layout=box_layout)\r\n",
    "# box"
   ],
   "outputs": [],
   "metadata": {}
  },
  {
   "cell_type": "code",
   "execution_count": 4,
   "source": [
    "# item_layout = Layout(height='100px', min_width='40px')\r\n",
    "# items = [Button(layout=item_layout, description=str(i), button_style='warning') for i in range(40)]\r\n",
    "# box_layout = Layout(overflow='scroll hidden',\r\n",
    "#                     border='3px solid black',\r\n",
    "#                     width='500px',\r\n",
    "#                     height='',\r\n",
    "#                     flex_flow='row',\r\n",
    "#                     display='flex')\r\n",
    "# carousel = Box(children=items, layout=box_layout)\r\n",
    "# VBox([Label('Scroll horizontally:'), carousel])"
   ],
   "outputs": [],
   "metadata": {}
  },
  {
   "cell_type": "code",
   "execution_count": 5,
   "source": [
    "\r\n",
    "\r\n",
    "\r\n",
    "# # UAPET Title: \r\n",
    "# title_html = 'Underwater Animal Pose Estimation and Tracking'\r\n",
    "\r\n",
    "# # UAPET Sidebar Items:\r\n",
    "# # Load Dataframe\r\n",
    "\r\n",
    "# sidebar_items = [\r\n",
    "#     FileUpload(accept='csv', multiple=False, layout=Layout(width='auto')),\r\n",
    "#     Button(description='Load Dataframe', layout=Layout(width='auto'), button_style='danger'),\r\n",
    "# ]\r\n",
    "# sidebar_layout = Layout(\r\n",
    "#     display='flex',\r\n",
    "#     flex_flow='column',\r\n",
    "#     align_items='stretch',\r\n",
    "#     width='30%',\r\n",
    "#     height='auto',\r\n",
    "# )\r\n",
    "# sidebar = Box(children=sidebar_items, layout=sidebar_layout)\r\n",
    "\r\n",
    "# VBox([title_html, sidebar])\r\n",
    "# # UAPET Output Items: \r\n",
    "# # View Dataframe"
   ],
   "outputs": [],
   "metadata": {}
  },
  {
   "cell_type": "code",
   "execution_count": null,
   "source": [
    "\r\n",
    "# def plot_func(a, f):\r\n",
    "#     plt.figure(2)\r\n",
    "#     x = np.linspace(0, 2*np.pi, num=1000)\r\n",
    "#     y = a*np.sin(1/f*x)\r\n",
    "#     plt.plot(x,y)\r\n",
    "#     plt.ylim(-1.1, 1.1)\r\n",
    "#     plt.title('a sin(f)')\r\n",
    "#     plt.show()\r\n",
    "\r\n",
    "# interactive_plot = interactive(plot_func, a=(-1,0,0.1), f=(0,10,0.1))\r\n",
    "# output = interactive_plot.children[-1]\r\n"
   ],
   "outputs": [],
   "metadata": {}
  }
 ],
 "metadata": {
  "orig_nbformat": 4,
  "language_info": {
   "name": "python",
   "version": "3.9.5",
   "mimetype": "text/x-python",
   "codemirror_mode": {
    "name": "ipython",
    "version": 3
   },
   "pygments_lexer": "ipython3",
   "nbconvert_exporter": "python",
   "file_extension": ".py"
  },
  "kernelspec": {
   "name": "python3",
   "display_name": "Python 3.9.5 64-bit"
  },
  "interpreter": {
   "hash": "231ae2835a051cd6e0ae3ca1e441fabe4a59c28b7c0c9cc0d40aae2eb5ac288e"
  }
 },
 "nbformat": 4,
 "nbformat_minor": 2
}